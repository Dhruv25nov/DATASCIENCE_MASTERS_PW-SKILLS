{
 "cells": [
  {
   "cell_type": "code",
   "execution_count": null,
   "id": "697acc15",
   "metadata": {},
   "outputs": [],
   "source": [
    "# Q1. Explain with an example each when to use a for loop and a while loop."
   ]
  },
  {
   "cell_type": "markdown",
   "id": "b843ea11",
   "metadata": {},
   "source": [
    "In general, you should use a for loop when you know how many times the loop should run.\n",
    "If you want the loop to break based on a condition other than the number of times it runs, you should use a while loop.\n",
    "\n"
   ]
  },
  {
   "cell_type": "code",
   "execution_count": 22,
   "id": "1c5153a3",
   "metadata": {},
   "outputs": [
    {
     "name": "stdout",
     "output_type": "stream",
     "text": [
      "1 2 3 4 5 6 7 8 9 10 "
     ]
    }
   ],
   "source": [
    "# Printing first 10 natural numbers\n",
    "for i in range(1,11):\n",
    "    print(i,end=\" \")\n",
    " \n"
   ]
  },
  {
   "cell_type": "code",
   "execution_count": 27,
   "id": "843eddd4",
   "metadata": {},
   "outputs": [
    {
     "name": "stdout",
     "output_type": "stream",
     "text": [
      "6\n"
     ]
    }
   ],
   "source": [
    "# Sum of natural numbers less than 10\n",
    "summ = 0\n",
    "i = 1\n",
    "while summ + i < 10:\n",
    "    summ += i\n",
    "    i += 1\n",
    "print(summ)\n",
    "    "
   ]
  },
  {
   "cell_type": "code",
   "execution_count": 11,
   "id": "17487c5f",
   "metadata": {},
   "outputs": [],
   "source": [
    "## Q2. Write a python program to print the sum and product of the first 10 natural numbers using for\n",
    "## and while loop."
   ]
  },
  {
   "cell_type": "code",
   "execution_count": 12,
   "id": "cc630e13",
   "metadata": {},
   "outputs": [
    {
     "name": "stdout",
     "output_type": "stream",
     "text": [
      "Sum is: 55\n",
      "Product is: 3628800\n"
     ]
    }
   ],
   "source": [
    "# Method1: Using For loop\n",
    "\n",
    "summ = 0\n",
    "product = 1\n",
    "\n",
    "for num in range(1,11):\n",
    "    summ += num\n",
    "    product *= num\n",
    "    \n",
    "print(f\"Sum is: {summ}\")\n",
    "print(f\"Product is: {product}\")"
   ]
  },
  {
   "cell_type": "code",
   "execution_count": 13,
   "id": "391434db",
   "metadata": {},
   "outputs": [
    {
     "name": "stdout",
     "output_type": "stream",
     "text": [
      "Sum is: 55\n",
      "Product is: 3628800\n"
     ]
    }
   ],
   "source": [
    "# Method1: Using While loop\n",
    "\n",
    "summ = 0\n",
    "product = 1\n",
    "num = 1\n",
    "\n",
    "while num <=10 :\n",
    "    summ += num\n",
    "    product *= num\n",
    "    num += 1\n",
    "    \n",
    "print(f\"Sum is: {summ}\")\n",
    "print(f\"Product is: {product}\")"
   ]
  },
  {
   "cell_type": "code",
   "execution_count": 14,
   "id": "1b124c31",
   "metadata": {},
   "outputs": [],
   "source": [
    "# Q3. Create a python program to compute the electricity bill for a household.\n",
    "# The per-unit charges in rupees are as follows: For the first 100 units, the user will be charged Rs. 4.5 per\n",
    "# unit, for the next 100 units, the user will be charged Rs. 6 per unit, and for the next 100 units, the user will\n",
    "# be charged Rs. 10 per unit, After 300 units and above the user will be charged Rs. 20 per unit.\n",
    "# You are required to take the units of electricity consumed in a month from the user as input.\n",
    "# Your program must pass this test case: when the unit of electricity consumed by the user in a month is\n",
    "# 310, the total electricity bill should be 2250."
   ]
  },
  {
   "cell_type": "code",
   "execution_count": 15,
   "id": "1933e977",
   "metadata": {},
   "outputs": [
    {
     "name": "stdout",
     "output_type": "stream",
     "text": [
      "Enter units: 310\n",
      "2250.0\n"
     ]
    }
   ],
   "source": [
    "units = int(input(\"Enter units: \"))\n",
    "\n",
    "charge = 0\n",
    "\n",
    "if units <= 100:\n",
    "    charge += units*4.5\n",
    "    \n",
    "elif units <= 200:\n",
    "    charge += 100*4.5 + (units-100)*6\n",
    "    \n",
    "elif units <=300:\n",
    "    charge += 100*4.5 + 100*6 + (units-200)*10\n",
    "    \n",
    "else:\n",
    "    charge += 100*4.5 + 100*6 + 100*10 + (units - 300)*20\n",
    "    \n",
    "print(charge)\n"
   ]
  },
  {
   "cell_type": "code",
   "execution_count": 16,
   "id": "9d9a047c",
   "metadata": {},
   "outputs": [],
   "source": [
    "# Q4. Create a list of numbers from 1 to 100. Use for loop and while loop to calculate the cube of each\n",
    "# number and if the cube of that number is divisible by 4 or 5 then append that number in a list and print\n",
    "# that list."
   ]
  },
  {
   "cell_type": "code",
   "execution_count": 17,
   "id": "e5a5c72c",
   "metadata": {},
   "outputs": [
    {
     "name": "stdout",
     "output_type": "stream",
     "text": [
      "[8, 64, 125, 216, 512, 1000, 1728, 2744, 3375, 4096, 5832, 8000, 10648, 13824, 15625, 17576, 21952, 27000, 32768, 39304, 42875, 46656, 54872, 64000, 74088, 85184, 91125, 97336, 110592, 125000, 140608, 157464, 166375, 175616, 195112, 216000, 238328, 262144, 274625, 287496, 314432, 343000, 373248, 405224, 421875, 438976, 474552, 512000, 551368, 592704, 614125, 636056, 681472, 729000, 778688, 830584, 857375, 884736, 941192, 1000000]\n"
     ]
    }
   ],
   "source": [
    "# Method1: for loop\n",
    "\n",
    "lst = list(range(1,101))\n",
    "new_lst = []\n",
    "for num in lst:\n",
    "    cube = num**3\n",
    "    if cube % 4 == 0 or cube % 5 == 0:\n",
    "        new_lst.append(cube)\n",
    "        \n",
    "print(new_lst)\n",
    "        "
   ]
  },
  {
   "cell_type": "code",
   "execution_count": 18,
   "id": "b2333ad3",
   "metadata": {},
   "outputs": [
    {
     "name": "stdout",
     "output_type": "stream",
     "text": [
      "[8, 64, 125, 216, 512, 1000, 1728, 2744, 3375, 4096, 5832, 8000, 10648, 13824, 15625, 17576, 21952, 27000, 32768, 39304, 42875, 46656, 54872, 64000, 74088, 85184, 91125, 97336, 110592, 125000, 140608, 157464, 166375, 175616, 195112, 216000, 238328, 262144, 274625, 287496, 314432, 343000, 373248, 405224, 421875, 438976, 474552, 512000, 551368, 592704, 614125, 636056, 681472, 729000, 778688, 830584, 857375, 884736, 941192, 1000000]\n"
     ]
    }
   ],
   "source": [
    "# Method2: While loop\n",
    "\n",
    "lst = list(range(1,101))\n",
    "new_lst = []\n",
    "i = 0\n",
    "while i < 100:\n",
    "    cube = lst[i]**3\n",
    "    if cube % 4 == 0 or cube % 5 == 0:\n",
    "        new_lst.append(cube)\n",
    "    i += 1\n",
    "\n",
    "        \n",
    "print(new_lst)\n",
    "        "
   ]
  },
  {
   "cell_type": "code",
   "execution_count": 19,
   "id": "ad369232",
   "metadata": {},
   "outputs": [],
   "source": [
    "# Q5. Write a program to filter count vowels in the below-given string.\n",
    "# string = \"I want to become a data scientist\""
   ]
  },
  {
   "cell_type": "code",
   "execution_count": 20,
   "id": "8872c993",
   "metadata": {},
   "outputs": [
    {
     "name": "stdout",
     "output_type": "stream",
     "text": [
      "11\n"
     ]
    }
   ],
   "source": [
    "string = \"I want to become a data scientist\"\n",
    "count = 0\n",
    "for char in string:\n",
    "    if char in [\"a\",\"e\",\"i\",\"o\",\"u\"]:\n",
    "        count += 1\n",
    "print(count)\n",
    "    "
   ]
  },
  {
   "cell_type": "code",
   "execution_count": null,
   "id": "ca5fbd44",
   "metadata": {},
   "outputs": [],
   "source": []
  }
 ],
 "metadata": {
  "kernelspec": {
   "display_name": "Python 3 (ipykernel)",
   "language": "python",
   "name": "python3"
  },
  "language_info": {
   "codemirror_mode": {
    "name": "ipython",
    "version": 3
   },
   "file_extension": ".py",
   "mimetype": "text/x-python",
   "name": "python",
   "nbconvert_exporter": "python",
   "pygments_lexer": "ipython3",
   "version": "3.10.1"
  }
 },
 "nbformat": 4,
 "nbformat_minor": 5
}

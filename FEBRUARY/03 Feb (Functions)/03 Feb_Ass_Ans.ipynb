{
 "cells": [
  {
   "cell_type": "code",
   "execution_count": 1,
   "id": "4d8eb150",
   "metadata": {},
   "outputs": [],
   "source": [
    "# Q1. Which keyword is used to create a function? Create a function to return a list of odd numbers in the\n",
    "# range of 1 to 25."
   ]
  },
  {
   "cell_type": "markdown",
   "id": "56c36add",
   "metadata": {},
   "source": [
    "def keyword is used to create a function"
   ]
  },
  {
   "cell_type": "code",
   "execution_count": 3,
   "id": "38a85511",
   "metadata": {},
   "outputs": [
    {
     "name": "stdout",
     "output_type": "stream",
     "text": [
      "[1, 3, 5, 7, 9, 11, 13, 15, 17, 19, 21, 23, 25]\n"
     ]
    }
   ],
   "source": [
    "def odd_numbers():\n",
    "    lst = [num for num in range(1,26,2)]\n",
    "    return lst\n",
    "\n",
    "ans = odd_numbers()\n",
    "print(ans)"
   ]
  },
  {
   "cell_type": "code",
   "execution_count": 4,
   "id": "dfe9d372",
   "metadata": {},
   "outputs": [],
   "source": [
    "# Q2. Why *args and **kwargs is used in some functions? Create a function each for *args and **kwargs\n",
    "# to demonstrate their use."
   ]
  },
  {
   "cell_type": "markdown",
   "id": "2f671f93",
   "metadata": {},
   "source": [
    "In Python, we can pass a variable number of arguments to a function using special symbols. There are two special symbols:\n",
    "\n",
    "*args (Non Keyword Arguments)\n",
    "**kwargs (Keyword Arguments)"
   ]
  },
  {
   "cell_type": "code",
   "execution_count": 5,
   "id": "927d7108",
   "metadata": {},
   "outputs": [
    {
     "name": "stdout",
     "output_type": "stream",
     "text": [
      "Sum: 8\n",
      "Sum: 22\n",
      "Sum: 17\n"
     ]
    }
   ],
   "source": [
    "# Use of *args\n",
    "\n",
    "def adder(*num):\n",
    "    sum = 0\n",
    "    \n",
    "    for n in num:\n",
    "        sum = sum + n\n",
    "\n",
    "    print(\"Sum:\",sum)\n",
    "\n",
    "adder(3,5)\n",
    "adder(4,5,6,7)\n",
    "adder(1,2,3,5,6)"
   ]
  },
  {
   "cell_type": "code",
   "execution_count": 6,
   "id": "c81a598e",
   "metadata": {},
   "outputs": [
    {
     "name": "stdout",
     "output_type": "stream",
     "text": [
      "\n",
      "Data type of argument: <class 'dict'>\n",
      "Firstname is Sita\n",
      "Lastname is Sharma\n",
      "Age is 22\n",
      "Phone is 1234567890\n",
      "\n",
      "Data type of argument: <class 'dict'>\n",
      "Firstname is John\n",
      "Lastname is Wood\n",
      "Email is johnwood@nomail.com\n",
      "Country is Wakanda\n",
      "Age is 25\n",
      "Phone is 9876543210\n"
     ]
    }
   ],
   "source": [
    "# Use of kwargs\n",
    "\n",
    "def intro(**data):\n",
    "    print(\"\\nData type of argument:\",type(data))\n",
    "\n",
    "    for key, value in data.items():\n",
    "        print(\"{} is {}\".format(key,value))\n",
    "\n",
    "intro(Firstname=\"Sita\", Lastname=\"Sharma\", Age=22, Phone=1234567890)\n",
    "intro(Firstname=\"John\", Lastname=\"Wood\", Email=\"johnwood@nomail.com\", Country=\"Wakanda\", Age=25, Phone=9876543210)"
   ]
  },
  {
   "cell_type": "code",
   "execution_count": 7,
   "id": "fc9034ab",
   "metadata": {},
   "outputs": [],
   "source": [
    "# Q3.  What is an iterator in python? Name the method used to initialise the iterator object and the method\n",
    "# used for iteration. Use these methods to print the first five elements of the given list [2, 4, 6, 8, 10, 12, 14,\n",
    "# 16, 18, 20]."
   ]
  },
  {
   "cell_type": "markdown",
   "id": "8cf37918",
   "metadata": {},
   "source": [
    "Iterator in Python is an object that is used to iterate over iterable objects like lists, tuples, dicts, and sets. The iterator object is initialized using the iter() method. It uses the next() method for iteration.\n",
    "\n",
    "__iter__(): The iter() method is called for the initialization of an iterator. This returns an iterator object\n",
    "__next__(): The next method returns the next value for the iterable. When we use a for loop to traverse any iterable object, internally it uses the iter() method to get an iterator object, which further uses the next() method to iterate over. This method raises a StopIteration to signal the end of the iteration."
   ]
  },
  {
   "cell_type": "code",
   "execution_count": 14,
   "id": "ddb21cb7",
   "metadata": {},
   "outputs": [
    {
     "name": "stdout",
     "output_type": "stream",
     "text": [
      "2\n",
      "4\n",
      "6\n",
      "8\n",
      "10\n"
     ]
    }
   ],
   "source": [
    "lst = [2, 4, 6, 8, 10, 12, 14,16, 18, 20]\n",
    "lst_iter = iter(lst)\n",
    "\n",
    "print(next(lst_iter))\n",
    "print(next(lst_iter))\n",
    "print(next(lst_iter))\n",
    "print(next(lst_iter))\n",
    "print(next(lst_iter))\n",
    "\n"
   ]
  },
  {
   "cell_type": "code",
   "execution_count": 16,
   "id": "22efcee1",
   "metadata": {},
   "outputs": [],
   "source": [
    "# Q4.  What is a generator function in python? Why yield keyword is used? Give an example of a generator\n",
    "# function."
   ]
  },
  {
   "cell_type": "markdown",
   "id": "3a2a36fc",
   "metadata": {},
   "source": [
    "In Python, a generator is a function that returns an iterator that produces a sequence of values when iterated over.\n",
    "Generators are useful when we want to produce a large sequence of values, but we don't want to store all of them in memory at once.\n",
    "\n",
    "In Python, similar to defining a normal function, we can define a generator function using the def keyword, but instead of the return statement we use the YIELD statement.\n",
    "\n",
    "EX:\n",
    "def generator_name(arg):\n",
    "    statements\n",
    "    yield something\n",
    "    \n",
    "Here, the yield keyword is used to produce a value from the generator.\n",
    "\n",
    "When the generator function is called, it does not execute the function body immediately. Instead, it returns a generator object that can be iterated over to produce the values."
   ]
  },
  {
   "cell_type": "code",
   "execution_count": 34,
   "id": "0e185fb3",
   "metadata": {},
   "outputs": [
    {
     "name": "stdout",
     "output_type": "stream",
     "text": [
      "0\n",
      "1\n",
      "2\n"
     ]
    }
   ],
   "source": [
    "def my_generator(n):\n",
    "\n",
    "    # initialize counter\n",
    "    value = 0\n",
    "\n",
    "    # loop until counter is less than n\n",
    "    while value < n:\n",
    "\n",
    "        # produce the current value of the counter\n",
    "        yield value\n",
    "\n",
    "        # increment the counter\n",
    "        value += 1\n",
    "\n",
    "# iterate over the generator object produced by my_generator\n",
    "for value in my_generator(3):\n",
    "\n",
    "    # print each value produced by generator\n",
    "    print(value)"
   ]
  },
  {
   "cell_type": "code",
   "execution_count": null,
   "id": "c284ed32",
   "metadata": {},
   "outputs": [],
   "source": [
    "# Q5. Create a generator function for prime numbers less than 1000. Use the next() method to print the\n",
    "# first 20 prime numbers."
   ]
  },
  {
   "cell_type": "code",
   "execution_count": 62,
   "id": "9bad05a4",
   "metadata": {},
   "outputs": [
    {
     "name": "stdout",
     "output_type": "stream",
     "text": [
      "2 3 5 7 9 11 13 15 17 19 21 23 27 29 31 33 37 39 41 43 "
     ]
    }
   ],
   "source": [
    "def isPrime(num):\n",
    "    is_prime = True\n",
    "    for div  in range(4, int(num**0.5) + 1):\n",
    "        if num % div == 0:\n",
    "            is_prime = False\n",
    "            return is_prime\n",
    "        \n",
    "    return is_prime\n",
    "        \n",
    "\n",
    "def prime_numbers():\n",
    "    yield 2\n",
    "   \n",
    "    number = 3\n",
    "    while number < 1000:\n",
    "        is_prime = isPrime(number)\n",
    "        \n",
    "        if is_prime:\n",
    "            yield number\n",
    "            \n",
    "        number += 2\n",
    "\n",
    "primes = prime_numbers()\n",
    "\n",
    "for i in range(20):\n",
    "    print(next(primes),end=\" \")\n",
    "        \n",
    "# for value in prime_numbers():\n",
    "#     print(value)\n",
    "\n",
    "            \n",
    "    "
   ]
  },
  {
   "cell_type": "code",
   "execution_count": 41,
   "id": "872f748d",
   "metadata": {},
   "outputs": [],
   "source": [
    "# Q6. Write a python program to print the first 10 Fibonacci numbers using a while loop."
   ]
  },
  {
   "cell_type": "code",
   "execution_count": 19,
   "id": "49bd45c6",
   "metadata": {},
   "outputs": [
    {
     "name": "stdout",
     "output_type": "stream",
     "text": [
      "0 1 1 2 3 5 8 13 21 34 "
     ]
    }
   ],
   "source": [
    "def fib():\n",
    "    a = 0\n",
    "    b = 1\n",
    "    n = 1\n",
    "    while n <= 10:\n",
    "        print(a,end=\" \")\n",
    "        a,b = b,a+b\n",
    "        n += 1\n",
    "        \n",
    "fib()"
   ]
  },
  {
   "cell_type": "code",
   "execution_count": 20,
   "id": "d225809f",
   "metadata": {},
   "outputs": [],
   "source": [
    "# Q7. Write a List Comprehension to iterate through the given string: ‘pwskills’.\n",
    "\n",
    "# Expected output: ['p', 'w', 's', 'k', 'i', 'l', 'l', 's'] \n"
   ]
  },
  {
   "cell_type": "code",
   "execution_count": 21,
   "id": "845a4217",
   "metadata": {},
   "outputs": [
    {
     "name": "stdout",
     "output_type": "stream",
     "text": [
      "['p', 'w', 's', 'k', 'i', 'l', 'l', 's']\n"
     ]
    }
   ],
   "source": [
    "s = \"pwskills\"\n",
    "lst = [char for char in s]\n",
    "print(lst)"
   ]
  },
  {
   "cell_type": "code",
   "execution_count": 22,
   "id": "f810defc",
   "metadata": {},
   "outputs": [],
   "source": [
    "# Q8. Write a python program to check whether a given number is Palindrome or not using a while loop"
   ]
  },
  {
   "cell_type": "code",
   "execution_count": 27,
   "id": "b28ca894",
   "metadata": {},
   "outputs": [
    {
     "name": "stdout",
     "output_type": "stream",
     "text": [
      "Enter a number: 25\n",
      "False\n"
     ]
    }
   ],
   "source": [
    "def isPallindrome(num):\n",
    "    return str(num) == str(num)[::-1]\n",
    "\n",
    "num = int(input(\"Enter a number: \"))\n",
    "ans = isPallindrome(num)\n",
    "print(ans)"
   ]
  },
  {
   "cell_type": "code",
   "execution_count": 28,
   "id": "df753976",
   "metadata": {},
   "outputs": [
    {
     "data": {
      "text/plain": [
       "True"
      ]
     },
     "execution_count": 28,
     "metadata": {},
     "output_type": "execute_result"
    }
   ],
   "source": [
    "isPallindrome(121)"
   ]
  },
  {
   "cell_type": "code",
   "execution_count": 29,
   "id": "6ab39c00",
   "metadata": {},
   "outputs": [],
   "source": [
    "# Q9. Write a code to print odd numbers from 1 to 100 using list comprehension.\n",
    "\n",
    "# Note: Use a list comprehension to create a list from 1 to 100 and use another List comprehension to filter\n",
    "# out odd numbers.\n"
   ]
  },
  {
   "cell_type": "code",
   "execution_count": 32,
   "id": "917474ed",
   "metadata": {},
   "outputs": [
    {
     "name": "stdout",
     "output_type": "stream",
     "text": [
      "[1, 3, 5, 7, 9, 11, 13, 15, 17, 19, 21, 23, 25, 27, 29, 31, 33, 35, 37, 39, 41, 43, 45, 47, 49, 51, 53, 55, 57, 59, 61, 63, 65, 67, 69, 71, 73, 75, 77, 79, 81, 83, 85, 87, 89, 91, 93, 95, 97, 99]\n"
     ]
    }
   ],
   "source": [
    "lst = [ele  for ele in range(1,101)]\n",
    "lst_odd = [ele for ele in lst if ele&1]\n",
    "print(lst_odd)"
   ]
  },
  {
   "cell_type": "code",
   "execution_count": null,
   "id": "e956e674",
   "metadata": {},
   "outputs": [],
   "source": []
  }
 ],
 "metadata": {
  "kernelspec": {
   "display_name": "Python 3 (ipykernel)",
   "language": "python",
   "name": "python3"
  },
  "language_info": {
   "codemirror_mode": {
    "name": "ipython",
    "version": 3
   },
   "file_extension": ".py",
   "mimetype": "text/x-python",
   "name": "python",
   "nbconvert_exporter": "python",
   "pygments_lexer": "ipython3",
   "version": "3.10.1"
  }
 },
 "nbformat": 4,
 "nbformat_minor": 5
}

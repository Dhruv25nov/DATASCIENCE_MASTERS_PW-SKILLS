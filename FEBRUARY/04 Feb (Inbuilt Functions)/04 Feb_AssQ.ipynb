{
  "metadata": {
    "language_info": {
      "codemirror_mode": {
        "name": "python",
        "version": 3
      },
      "file_extension": ".py",
      "mimetype": "text/x-python",
      "name": "python",
      "nbconvert_exporter": "python",
      "pygments_lexer": "ipython3",
      "version": "3.8"
    },
    "kernelspec": {
      "name": "python",
      "display_name": "Python (Pyodide)",
      "language": "python"
    }
  },
  "nbformat_minor": 4,
  "nbformat": 4,
  "cells": [
    {
      "cell_type": "markdown",
      "source": "## Q1. Create a python program to sort the given list of tuples based on integer value using alambda function. \n## [('Sachin Tendulkar', 34357), ('Ricky Ponting', 27483), ('Jack Kallis', 25534), ('Virat Kohli', 24936)]",
      "metadata": {}
    },
    {
      "cell_type": "code",
      "source": "lst = [('Sachin Tendulkar', 34357), ('Ricky Ponting', 27483), ('Jack Kallis', 25534), ('Virat Kohli', 24936)]\nlst.sort(key = lambda x: x[1])\nprint(lst)\n    \n    ",
      "metadata": {
        "trusted": true
      },
      "execution_count": 8,
      "outputs": [
        {
          "name": "stdout",
          "text": "[('Virat Kohli', 24936), ('Jack Kallis', 25534), ('Ricky Ponting', 27483), ('Sachin Tendulkar', 34357)]\n",
          "output_type": "stream"
        }
      ]
    },
    {
      "cell_type": "markdown",
      "source": "## Q2. Write a Python Program to find the squares of all the numbers in the given list of integers using\n## lambda and map functions.\n## [1, 2, 3, 4, 5, 6, 7, 8, 9, 10]",
      "metadata": {}
    },
    {
      "cell_type": "code",
      "source": "lst = [1, 2, 3, 4, 5, 6, 7, 8, 9, 10]\nnew_lst = list(map(lambda x: x**2,lst))\nprint(new_lst)",
      "metadata": {
        "trusted": true
      },
      "execution_count": 9,
      "outputs": [
        {
          "name": "stdout",
          "text": "[1, 4, 9, 16, 25, 36, 49, 64, 81, 100]\n",
          "output_type": "stream"
        }
      ]
    },
    {
      "cell_type": "markdown",
      "source": "## Q3. Write a python program to convert the given list of integers into a tuple of strings. Use map and\n## lambda functions\n## Given String: [1, 2, 3, 4, 5, 6, 7, 8, 9, 10]\n## Expected output: ('1', '2', '3', '4', '5', '6', '7', '8', '9', '10')",
      "metadata": {}
    },
    {
      "cell_type": "code",
      "source": "lst = [1, 2, 3, 4, 5, 6, 7, 8, 9, 10]\ntup = tuple(map(lambda num : str(num), lst))\nprint(tup)",
      "metadata": {
        "trusted": true
      },
      "execution_count": 10,
      "outputs": [
        {
          "name": "stdout",
          "text": "('1', '2', '3', '4', '5', '6', '7', '8', '9', '10')\n",
          "output_type": "stream"
        }
      ]
    },
    {
      "cell_type": "markdown",
      "source": "## Q4.  Write a python program using reduce function to compute the product of a list containing numbers\n## from 1 to 25.",
      "metadata": {}
    },
    {
      "cell_type": "code",
      "source": "from functools import reduce\n\nlst = list(range(1,26))\nproduct = reduce(lambda x,y: x*y, lst)\nprint(product)",
      "metadata": {
        "trusted": true
      },
      "execution_count": 16,
      "outputs": [
        {
          "name": "stdout",
          "text": "15511210043330985984000000\n",
          "output_type": "stream"
        }
      ]
    },
    {
      "cell_type": "markdown",
      "source": "## Q5. Write a python program to filter the numbers in a given list that are divisible by 2 and 3 using the\n## filter function.\n## [2, 3, 6, 9, 27, 60, 90, 120, 55, 46]",
      "metadata": {}
    },
    {
      "cell_type": "code",
      "source": "lst = [2, 3, 6, 9, 27, 60, 90, 120, 55, 46]\nnew_lst = list(filter(lambda x : (x % 2 == 0) and (x % 3 == 0) , lst))\nprint(new_lst)",
      "metadata": {
        "trusted": true
      },
      "execution_count": 17,
      "outputs": [
        {
          "name": "stdout",
          "text": "[6, 60, 90, 120]\n",
          "output_type": "stream"
        }
      ]
    },
    {
      "cell_type": "markdown",
      "source": "## Q6. Write a python program to find palindromes in the given list of strings using lambda and filter\n## function.\n## ['python', 'php', 'aba', 'radar', 'level']",
      "metadata": {}
    },
    {
      "cell_type": "code",
      "source": "lst = ['python', 'php', 'aba', 'radar', 'level']\nnew_lst = list(filter(lambda s : s == s[::-1] , lst))\nprint(new_lst)",
      "metadata": {
        "trusted": true
      },
      "execution_count": 15,
      "outputs": [
        {
          "name": "stdout",
          "text": "['php', 'aba', 'radar', 'level']\n",
          "output_type": "stream"
        }
      ]
    },
    {
      "cell_type": "code",
      "source": "",
      "metadata": {},
      "execution_count": null,
      "outputs": []
    }
  ]
}
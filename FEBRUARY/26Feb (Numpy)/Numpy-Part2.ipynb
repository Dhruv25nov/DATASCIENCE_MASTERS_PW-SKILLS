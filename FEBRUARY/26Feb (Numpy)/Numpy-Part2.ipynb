{
 "cells": [
  {
   "cell_type": "code",
   "execution_count": 1,
   "id": "4f2636f6",
   "metadata": {},
   "outputs": [],
   "source": [
    "# Numpy Array Manipulation"
   ]
  },
  {
   "cell_type": "code",
   "execution_count": 2,
   "id": "1ff8b95e",
   "metadata": {},
   "outputs": [],
   "source": [
    "import numpy as np"
   ]
  },
  {
   "cell_type": "code",
   "execution_count": 4,
   "id": "0b32777f",
   "metadata": {},
   "outputs": [],
   "source": [
    "arr = np.random.randint(1,10,(3,4))"
   ]
  },
  {
   "cell_type": "code",
   "execution_count": 5,
   "id": "6e3f921d",
   "metadata": {},
   "outputs": [
    {
     "data": {
      "text/plain": [
       "array([[6, 4, 5, 2],\n",
       "       [2, 7, 5, 5],\n",
       "       [9, 4, 6, 7]])"
      ]
     },
     "execution_count": 5,
     "metadata": {},
     "output_type": "execute_result"
    }
   ],
   "source": [
    "arr"
   ]
  },
  {
   "cell_type": "code",
   "execution_count": 6,
   "id": "84a5beb6",
   "metadata": {},
   "outputs": [
    {
     "data": {
      "text/plain": [
       "array([[6, 4, 5, 2, 2, 7],\n",
       "       [5, 5, 9, 4, 6, 7]])"
      ]
     },
     "execution_count": 6,
     "metadata": {},
     "output_type": "execute_result"
    }
   ],
   "source": [
    "arr.reshape(2,6)"
   ]
  },
  {
   "cell_type": "code",
   "execution_count": 7,
   "id": "c4ea3185",
   "metadata": {},
   "outputs": [
    {
     "ename": "ValueError",
     "evalue": "cannot reshape array of size 12 into shape (2,7)",
     "output_type": "error",
     "traceback": [
      "\u001b[1;31m---------------------------------------------------------------------------\u001b[0m",
      "\u001b[1;31mValueError\u001b[0m                                Traceback (most recent call last)",
      "Input \u001b[1;32mIn [7]\u001b[0m, in \u001b[0;36m<module>\u001b[1;34m\u001b[0m\n\u001b[1;32m----> 1\u001b[0m \u001b[43marr\u001b[49m\u001b[38;5;241;43m.\u001b[39;49m\u001b[43mreshape\u001b[49m\u001b[43m(\u001b[49m\u001b[38;5;241;43m2\u001b[39;49m\u001b[43m,\u001b[49m\u001b[38;5;241;43m7\u001b[39;49m\u001b[43m)\u001b[49m\n",
      "\u001b[1;31mValueError\u001b[0m: cannot reshape array of size 12 into shape (2,7)"
     ]
    }
   ],
   "source": [
    "arr.reshape(2,7)"
   ]
  },
  {
   "cell_type": "code",
   "execution_count": 10,
   "id": "53721c41",
   "metadata": {},
   "outputs": [
    {
     "data": {
      "text/plain": [
       "array([[6, 4, 5, 2, 2, 7],\n",
       "       [5, 5, 9, 4, 6, 7]])"
      ]
     },
     "execution_count": 10,
     "metadata": {},
     "output_type": "execute_result"
    }
   ],
   "source": [
    "arr.reshape(2,-1)"
   ]
  },
  {
   "cell_type": "raw",
   "id": "f09f450d",
   "metadata": {},
   "source": [
    "arr"
   ]
  },
  {
   "cell_type": "code",
   "execution_count": 11,
   "id": "f02db1a7",
   "metadata": {},
   "outputs": [
    {
     "data": {
      "text/plain": [
       "array([[6, 4, 5, 2],\n",
       "       [2, 7, 5, 5],\n",
       "       [9, 4, 6, 7]])"
      ]
     },
     "execution_count": 11,
     "metadata": {},
     "output_type": "execute_result"
    }
   ],
   "source": [
    "arr"
   ]
  },
  {
   "cell_type": "code",
   "execution_count": 12,
   "id": "9f4398fc",
   "metadata": {},
   "outputs": [
    {
     "data": {
      "text/plain": [
       "array([6, 4, 5, 2, 2, 7, 5, 5, 9, 4, 6, 7])"
      ]
     },
     "execution_count": 12,
     "metadata": {},
     "output_type": "execute_result"
    }
   ],
   "source": [
    "arr.flatten()"
   ]
  },
  {
   "cell_type": "code",
   "execution_count": 13,
   "id": "614929d6",
   "metadata": {},
   "outputs": [
    {
     "data": {
      "text/plain": [
       "array([[6, 4, 5, 2],\n",
       "       [2, 7, 5, 5],\n",
       "       [9, 4, 6, 7]])"
      ]
     },
     "execution_count": 13,
     "metadata": {},
     "output_type": "execute_result"
    }
   ],
   "source": [
    "arr"
   ]
  },
  {
   "cell_type": "code",
   "execution_count": 14,
   "id": "ee9ff430",
   "metadata": {},
   "outputs": [],
   "source": [
    "arr1 = np.array([1,2,3,4,3])"
   ]
  },
  {
   "cell_type": "code",
   "execution_count": 16,
   "id": "8ce02469",
   "metadata": {},
   "outputs": [
    {
     "data": {
      "text/plain": [
       "1"
      ]
     },
     "execution_count": 16,
     "metadata": {},
     "output_type": "execute_result"
    }
   ],
   "source": [
    "arr1.ndim"
   ]
  },
  {
   "cell_type": "code",
   "execution_count": 17,
   "id": "3544e5a3",
   "metadata": {},
   "outputs": [
    {
     "data": {
      "text/plain": [
       "array([[1],\n",
       "       [2],\n",
       "       [3],\n",
       "       [4],\n",
       "       [3]])"
      ]
     },
     "execution_count": 17,
     "metadata": {},
     "output_type": "execute_result"
    }
   ],
   "source": [
    "np.expand_dims(arr1, axis=1) # Changes dimension from 1 to 2"
   ]
  },
  {
   "cell_type": "code",
   "execution_count": 18,
   "id": "ff237454",
   "metadata": {},
   "outputs": [
    {
     "data": {
      "text/plain": [
       "array([[1, 2, 3, 4, 3]])"
      ]
     },
     "execution_count": 18,
     "metadata": {},
     "output_type": "execute_result"
    }
   ],
   "source": [
    "np.expand_dims(arr1, axis=0)"
   ]
  },
  {
   "cell_type": "code",
   "execution_count": 19,
   "id": "f01718f5",
   "metadata": {},
   "outputs": [
    {
     "data": {
      "text/plain": [
       "array([[6, 4, 5, 2],\n",
       "       [2, 7, 5, 5],\n",
       "       [9, 4, 6, 7]])"
      ]
     },
     "execution_count": 19,
     "metadata": {},
     "output_type": "execute_result"
    }
   ],
   "source": [
    "arr"
   ]
  },
  {
   "cell_type": "code",
   "execution_count": 20,
   "id": "1bbba2a8",
   "metadata": {},
   "outputs": [
    {
     "data": {
      "text/plain": [
       "array([[6, 4, 5, 2],\n",
       "       [2, 7, 5, 5],\n",
       "       [9, 4, 6, 7]])"
      ]
     },
     "execution_count": 20,
     "metadata": {},
     "output_type": "execute_result"
    }
   ],
   "source": [
    "np.squeeze(arr)"
   ]
  },
  {
   "cell_type": "code",
   "execution_count": 22,
   "id": "ac0f6bf4",
   "metadata": {},
   "outputs": [],
   "source": [
    "arr =np.array([[1],[2],[3]])"
   ]
  },
  {
   "cell_type": "code",
   "execution_count": 23,
   "id": "d59a0499",
   "metadata": {},
   "outputs": [
    {
     "data": {
      "text/plain": [
       "array([[1],\n",
       "       [2],\n",
       "       [3]])"
      ]
     },
     "execution_count": 23,
     "metadata": {},
     "output_type": "execute_result"
    }
   ],
   "source": [
    "arr"
   ]
  },
  {
   "cell_type": "code",
   "execution_count": 25,
   "id": "03c6f388",
   "metadata": {},
   "outputs": [
    {
     "data": {
      "text/plain": [
       "array([1, 2, 3])"
      ]
     },
     "execution_count": 25,
     "metadata": {},
     "output_type": "execute_result"
    }
   ],
   "source": [
    "np.squeeze(arr) #Squeeze elements"
   ]
  },
  {
   "cell_type": "code",
   "execution_count": 26,
   "id": "89779df4",
   "metadata": {},
   "outputs": [
    {
     "data": {
      "text/plain": [
       "array([1, 2, 3, 4, 3])"
      ]
     },
     "execution_count": 26,
     "metadata": {},
     "output_type": "execute_result"
    }
   ],
   "source": [
    "arr1"
   ]
  },
  {
   "cell_type": "code",
   "execution_count": 27,
   "id": "8a62704f",
   "metadata": {},
   "outputs": [
    {
     "data": {
      "text/plain": [
       "array([1, 1, 1, 2, 2, 2, 3, 3, 3, 4, 4, 4, 3, 3, 3])"
      ]
     },
     "execution_count": 27,
     "metadata": {},
     "output_type": "execute_result"
    }
   ],
   "source": [
    "np.repeat(arr1,3) #Repeats elements 3 times"
   ]
  },
  {
   "cell_type": "code",
   "execution_count": 29,
   "id": "4695a92f",
   "metadata": {},
   "outputs": [
    {
     "data": {
      "text/plain": [
       "array([4, 3, 1, 2, 3])"
      ]
     },
     "execution_count": 29,
     "metadata": {},
     "output_type": "execute_result"
    }
   ],
   "source": [
    "np.roll(arr1, 2) #It shifts data by 2 places"
   ]
  },
  {
   "cell_type": "code",
   "execution_count": 30,
   "id": "300ce190",
   "metadata": {},
   "outputs": [
    {
     "data": {
      "text/plain": [
       "array([[1, 0, 0, 0, 0],\n",
       "       [0, 2, 0, 0, 0],\n",
       "       [0, 0, 3, 0, 0],\n",
       "       [0, 0, 0, 4, 0],\n",
       "       [0, 0, 0, 0, 3]])"
      ]
     },
     "execution_count": 30,
     "metadata": {},
     "output_type": "execute_result"
    }
   ],
   "source": [
    "np.diag(arr1)"
   ]
  },
  {
   "cell_type": "code",
   "execution_count": 31,
   "id": "688a3fff",
   "metadata": {},
   "outputs": [],
   "source": [
    "# Numpy Binary Operations"
   ]
  },
  {
   "cell_type": "code",
   "execution_count": 32,
   "id": "2d88e5fa",
   "metadata": {},
   "outputs": [],
   "source": [
    "arr1 = np.random.randint(1,10,(3,4))\n",
    "arr2 = np.random.randint(1,10,(3,4))"
   ]
  },
  {
   "cell_type": "code",
   "execution_count": 33,
   "id": "8c90c253",
   "metadata": {},
   "outputs": [
    {
     "data": {
      "text/plain": [
       "array([[7, 7, 3, 9],\n",
       "       [2, 1, 8, 5],\n",
       "       [9, 9, 5, 5]])"
      ]
     },
     "execution_count": 33,
     "metadata": {},
     "output_type": "execute_result"
    }
   ],
   "source": [
    "arr1"
   ]
  },
  {
   "cell_type": "code",
   "execution_count": 34,
   "id": "a63f6723",
   "metadata": {},
   "outputs": [
    {
     "data": {
      "text/plain": [
       "array([[3, 2, 8, 3],\n",
       "       [6, 3, 4, 6],\n",
       "       [5, 2, 7, 1]])"
      ]
     },
     "execution_count": 34,
     "metadata": {},
     "output_type": "execute_result"
    }
   ],
   "source": [
    "arr2"
   ]
  },
  {
   "cell_type": "code",
   "execution_count": 35,
   "id": "27cad9b9",
   "metadata": {},
   "outputs": [
    {
     "data": {
      "text/plain": [
       "array([[10,  9, 11, 12],\n",
       "       [ 8,  4, 12, 11],\n",
       "       [14, 11, 12,  6]])"
      ]
     },
     "execution_count": 35,
     "metadata": {},
     "output_type": "execute_result"
    }
   ],
   "source": [
    "arr1 + arr2"
   ]
  },
  {
   "cell_type": "code",
   "execution_count": 36,
   "id": "591260bf",
   "metadata": {},
   "outputs": [
    {
     "data": {
      "text/plain": [
       "array([[21, 14, 24, 27],\n",
       "       [12,  3, 32, 30],\n",
       "       [45, 18, 35,  5]])"
      ]
     },
     "execution_count": 36,
     "metadata": {},
     "output_type": "execute_result"
    }
   ],
   "source": [
    "arr1 * arr2"
   ]
  },
  {
   "cell_type": "code",
   "execution_count": 37,
   "id": "86e2e260",
   "metadata": {},
   "outputs": [
    {
     "data": {
      "text/plain": [
       "array([[ 4,  5, -5,  6],\n",
       "       [-4, -2,  4, -1],\n",
       "       [ 4,  7, -2,  4]])"
      ]
     },
     "execution_count": 37,
     "metadata": {},
     "output_type": "execute_result"
    }
   ],
   "source": [
    "arr1 - arr2"
   ]
  },
  {
   "cell_type": "code",
   "execution_count": 38,
   "id": "8c7ceea2",
   "metadata": {},
   "outputs": [
    {
     "data": {
      "text/plain": [
       "array([[1, 1, 3, 0],\n",
       "       [2, 1, 0, 5],\n",
       "       [4, 1, 5, 0]])"
      ]
     },
     "execution_count": 38,
     "metadata": {},
     "output_type": "execute_result"
    }
   ],
   "source": [
    "arr1 % arr2"
   ]
  },
  {
   "cell_type": "code",
   "execution_count": 39,
   "id": "775bea7b",
   "metadata": {},
   "outputs": [
    {
     "data": {
      "text/plain": [
       "array([[3, 2, 0, 1],\n",
       "       [2, 1, 0, 4],\n",
       "       [1, 0, 5, 1]])"
      ]
     },
     "execution_count": 39,
     "metadata": {},
     "output_type": "execute_result"
    }
   ],
   "source": [
    "arr1 & arr2"
   ]
  },
  {
   "cell_type": "code",
   "execution_count": 41,
   "id": "e4173528",
   "metadata": {},
   "outputs": [
    {
     "data": {
      "text/plain": [
       "array([[ -8,  -8,  -4, -10],\n",
       "       [ -3,  -2,  -9,  -6],\n",
       "       [-10, -10,  -6,  -6]])"
      ]
     },
     "execution_count": 41,
     "metadata": {},
     "output_type": "execute_result"
    }
   ],
   "source": [
    "~arr1"
   ]
  },
  {
   "cell_type": "code",
   "execution_count": 42,
   "id": "e5ff855a",
   "metadata": {},
   "outputs": [
    {
     "data": {
      "text/plain": [
       "array([[ 7,  7, 11, 11],\n",
       "       [ 6,  3, 12,  7],\n",
       "       [13, 11,  7,  5]])"
      ]
     },
     "execution_count": 42,
     "metadata": {},
     "output_type": "execute_result"
    }
   ],
   "source": [
    " arr1 | arr2"
   ]
  },
  {
   "cell_type": "code",
   "execution_count": 43,
   "id": "07182843",
   "metadata": {},
   "outputs": [
    {
     "data": {
      "text/plain": [
       "array([[ True,  True, False,  True],\n",
       "       [False, False,  True, False],\n",
       "       [ True,  True, False,  True]])"
      ]
     },
     "execution_count": 43,
     "metadata": {},
     "output_type": "execute_result"
    }
   ],
   "source": [
    "arr1 > arr2"
   ]
  },
  {
   "cell_type": "code",
   "execution_count": 44,
   "id": "85b3e720",
   "metadata": {},
   "outputs": [],
   "source": [
    "# Numpy String Function"
   ]
  },
  {
   "cell_type": "code",
   "execution_count": 45,
   "id": "ddef4e74",
   "metadata": {},
   "outputs": [
    {
     "data": {
      "text/plain": [
       "array(['Dhruv', 'Maheshwari'], dtype='<U10')"
      ]
     },
     "execution_count": 45,
     "metadata": {},
     "output_type": "execute_result"
    }
   ],
   "source": [
    "np.array([\"Dhruv\",\"Maheshwari\"])"
   ]
  },
  {
   "cell_type": "code",
   "execution_count": 46,
   "id": "b06e826e",
   "metadata": {},
   "outputs": [],
   "source": [
    "arr = np.array([\"Dhruv\",\"Maheshwari\"])"
   ]
  },
  {
   "cell_type": "code",
   "execution_count": 47,
   "id": "994abf57",
   "metadata": {},
   "outputs": [
    {
     "data": {
      "text/plain": [
       "array(['DHRUV', 'MAHESHWARI'], dtype='<U10')"
      ]
     },
     "execution_count": 47,
     "metadata": {},
     "output_type": "execute_result"
    }
   ],
   "source": [
    "np.char.upper(arr)"
   ]
  },
  {
   "cell_type": "code",
   "execution_count": 48,
   "id": "7efee0e1",
   "metadata": {},
   "outputs": [
    {
     "data": {
      "text/plain": [
       "array(['dhruv', 'maheshwari'], dtype='<U10')"
      ]
     },
     "execution_count": 48,
     "metadata": {},
     "output_type": "execute_result"
    }
   ],
   "source": [
    "np.char.lower(arr)"
   ]
  },
  {
   "cell_type": "code",
   "execution_count": 49,
   "id": "445eca45",
   "metadata": {},
   "outputs": [
    {
     "data": {
      "text/plain": [
       "array(['Dhruv', 'Maheshwari'], dtype='<U10')"
      ]
     },
     "execution_count": 49,
     "metadata": {},
     "output_type": "execute_result"
    }
   ],
   "source": [
    "np.char.title(arr)"
   ]
  },
  {
   "cell_type": "code",
   "execution_count": 50,
   "id": "bd2a586f",
   "metadata": {},
   "outputs": [
    {
     "data": {
      "text/plain": [
       "array(['Dhruv', 'Maheshwari'], dtype='<U10')"
      ]
     },
     "execution_count": 50,
     "metadata": {},
     "output_type": "execute_result"
    }
   ],
   "source": [
    "np.char.capitalize(arr)"
   ]
  },
  {
   "cell_type": "code",
   "execution_count": 51,
   "id": "6bb8df14",
   "metadata": {},
   "outputs": [],
   "source": [
    "# Numpy Mathematical Fucntions"
   ]
  },
  {
   "cell_type": "code",
   "execution_count": 52,
   "id": "d84c7963",
   "metadata": {},
   "outputs": [
    {
     "data": {
      "text/plain": [
       "array([[7, 7, 3, 9],\n",
       "       [2, 1, 8, 5],\n",
       "       [9, 9, 5, 5]])"
      ]
     },
     "execution_count": 52,
     "metadata": {},
     "output_type": "execute_result"
    }
   ],
   "source": [
    "arr1"
   ]
  },
  {
   "cell_type": "code",
   "execution_count": 53,
   "id": "8f4a862f",
   "metadata": {},
   "outputs": [
    {
     "data": {
      "text/plain": [
       "array([[ 0.6569866 ,  0.6569866 ,  0.14112001,  0.41211849],\n",
       "       [ 0.90929743,  0.84147098,  0.98935825, -0.95892427],\n",
       "       [ 0.41211849,  0.41211849, -0.95892427, -0.95892427]])"
      ]
     },
     "execution_count": 53,
     "metadata": {},
     "output_type": "execute_result"
    }
   ],
   "source": [
    "np.sin(arr1)"
   ]
  },
  {
   "cell_type": "code",
   "execution_count": 54,
   "id": "171c7537",
   "metadata": {},
   "outputs": [
    {
     "data": {
      "text/plain": [
       "array([[ 0.75390225,  0.75390225, -0.9899925 , -0.91113026],\n",
       "       [-0.41614684,  0.54030231, -0.14550003,  0.28366219],\n",
       "       [-0.91113026, -0.91113026,  0.28366219,  0.28366219]])"
      ]
     },
     "execution_count": 54,
     "metadata": {},
     "output_type": "execute_result"
    }
   ],
   "source": [
    "np.cos(arr1)"
   ]
  },
  {
   "cell_type": "code",
   "execution_count": 55,
   "id": "8b531633",
   "metadata": {},
   "outputs": [
    {
     "data": {
      "text/plain": [
       "array([[ 0.87144798,  0.87144798, -0.14254654, -0.45231566],\n",
       "       [-2.18503986,  1.55740772, -6.79971146, -3.38051501],\n",
       "       [-0.45231566, -0.45231566, -3.38051501, -3.38051501]])"
      ]
     },
     "execution_count": 55,
     "metadata": {},
     "output_type": "execute_result"
    }
   ],
   "source": [
    "np.tan(arr1)"
   ]
  },
  {
   "cell_type": "code",
   "execution_count": 57,
   "id": "ce39d953",
   "metadata": {},
   "outputs": [
    {
     "data": {
      "text/plain": [
       "array([[0.84509804, 0.84509804, 0.47712125, 0.95424251],\n",
       "       [0.30103   , 0.        , 0.90308999, 0.69897   ],\n",
       "       [0.95424251, 0.95424251, 0.69897   , 0.69897   ]])"
      ]
     },
     "execution_count": 57,
     "metadata": {},
     "output_type": "execute_result"
    }
   ],
   "source": [
    "np.log10(arr1)"
   ]
  },
  {
   "cell_type": "code",
   "execution_count": 58,
   "id": "269f3060",
   "metadata": {},
   "outputs": [
    {
     "data": {
      "text/plain": [
       "array([[1.09663316e+03, 1.09663316e+03, 2.00855369e+01, 8.10308393e+03],\n",
       "       [7.38905610e+00, 2.71828183e+00, 2.98095799e+03, 1.48413159e+02],\n",
       "       [8.10308393e+03, 8.10308393e+03, 1.48413159e+02, 1.48413159e+02]])"
      ]
     },
     "execution_count": 58,
     "metadata": {},
     "output_type": "execute_result"
    }
   ],
   "source": [
    "np.exp(arr1)"
   ]
  },
  {
   "cell_type": "code",
   "execution_count": 59,
   "id": "90ad3c35",
   "metadata": {},
   "outputs": [
    {
     "data": {
      "text/plain": [
       "array([[2.64575131, 2.64575131, 1.73205081, 3.        ],\n",
       "       [1.41421356, 1.        , 2.82842712, 2.23606798],\n",
       "       [3.        , 3.        , 2.23606798, 2.23606798]])"
      ]
     },
     "execution_count": 59,
     "metadata": {},
     "output_type": "execute_result"
    }
   ],
   "source": [
    "np.sqrt(arr1)"
   ]
  },
  {
   "cell_type": "code",
   "execution_count": 60,
   "id": "dee0c9cd",
   "metadata": {},
   "outputs": [
    {
     "data": {
      "text/plain": [
       "array([[49, 49,  9, 81],\n",
       "       [ 4,  1, 64, 25],\n",
       "       [81, 81, 25, 25]], dtype=int32)"
      ]
     },
     "execution_count": 60,
     "metadata": {},
     "output_type": "execute_result"
    }
   ],
   "source": [
    "np.power(arr1, 2)"
   ]
  },
  {
   "cell_type": "code",
   "execution_count": 61,
   "id": "0da4b1b5",
   "metadata": {},
   "outputs": [
    {
     "data": {
      "text/plain": [
       "5.833333333333333"
      ]
     },
     "execution_count": 61,
     "metadata": {},
     "output_type": "execute_result"
    }
   ],
   "source": [
    "np.mean(arr1)"
   ]
  },
  {
   "cell_type": "code",
   "execution_count": 64,
   "id": "a05c93af",
   "metadata": {},
   "outputs": [
    {
     "data": {
      "text/plain": [
       "6.0"
      ]
     },
     "execution_count": 64,
     "metadata": {},
     "output_type": "execute_result"
    }
   ],
   "source": [
    "np.median(arr1)"
   ]
  },
  {
   "cell_type": "code",
   "execution_count": 65,
   "id": "836c7a9a",
   "metadata": {},
   "outputs": [
    {
     "data": {
      "text/plain": [
       "2.6718699236469"
      ]
     },
     "execution_count": 65,
     "metadata": {},
     "output_type": "execute_result"
    }
   ],
   "source": [
    "np.std(arr1)"
   ]
  },
  {
   "cell_type": "code",
   "execution_count": 66,
   "id": "4b5d3165",
   "metadata": {},
   "outputs": [
    {
     "data": {
      "text/plain": [
       "7.13888888888889"
      ]
     },
     "execution_count": 66,
     "metadata": {},
     "output_type": "execute_result"
    }
   ],
   "source": [
    "np.var(arr1)"
   ]
  },
  {
   "cell_type": "code",
   "execution_count": 67,
   "id": "941cb5bd",
   "metadata": {},
   "outputs": [
    {
     "data": {
      "text/plain": [
       "1"
      ]
     },
     "execution_count": 67,
     "metadata": {},
     "output_type": "execute_result"
    }
   ],
   "source": [
    "np.min(arr1)"
   ]
  },
  {
   "cell_type": "code",
   "execution_count": 68,
   "id": "ad202cba",
   "metadata": {},
   "outputs": [
    {
     "data": {
      "text/plain": [
       "9"
      ]
     },
     "execution_count": 68,
     "metadata": {},
     "output_type": "execute_result"
    }
   ],
   "source": [
    "np.max(arr1)"
   ]
  },
  {
   "cell_type": "code",
   "execution_count": null,
   "id": "25e07ecc",
   "metadata": {},
   "outputs": [],
   "source": []
  }
 ],
 "metadata": {
  "kernelspec": {
   "display_name": "Python 3 (ipykernel)",
   "language": "python",
   "name": "python3"
  },
  "language_info": {
   "codemirror_mode": {
    "name": "ipython",
    "version": 3
   },
   "file_extension": ".py",
   "mimetype": "text/x-python",
   "name": "python",
   "nbconvert_exporter": "python",
   "pygments_lexer": "ipython3",
   "version": "3.10.1"
  }
 },
 "nbformat": 4,
 "nbformat_minor": 5
}

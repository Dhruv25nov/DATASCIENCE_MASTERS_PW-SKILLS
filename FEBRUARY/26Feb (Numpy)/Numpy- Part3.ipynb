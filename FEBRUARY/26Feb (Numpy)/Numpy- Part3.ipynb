{
 "cells": [
  {
   "cell_type": "code",
   "execution_count": 1,
   "id": "554ab091",
   "metadata": {},
   "outputs": [],
   "source": [
    "# Sort , Search and counting Function"
   ]
  },
  {
   "cell_type": "code",
   "execution_count": 2,
   "id": "dc29b531",
   "metadata": {},
   "outputs": [],
   "source": [
    "import numpy as np"
   ]
  },
  {
   "cell_type": "code",
   "execution_count": 3,
   "id": "bf9924b7",
   "metadata": {},
   "outputs": [
    {
     "data": {
      "text/plain": [
       "array([  4,   5,   3,   5,  24,   3, 222, 111])"
      ]
     },
     "execution_count": 3,
     "metadata": {},
     "output_type": "execute_result"
    }
   ],
   "source": [
    "np.array([4,5,3,5,24,3,222,111])"
   ]
  },
  {
   "cell_type": "code",
   "execution_count": 4,
   "id": "3efeb7a9",
   "metadata": {},
   "outputs": [],
   "source": [
    "arr = np.array([4,5,3,5,24,3,222,111])"
   ]
  },
  {
   "cell_type": "code",
   "execution_count": 5,
   "id": "af550d25",
   "metadata": {},
   "outputs": [
    {
     "data": {
      "text/plain": [
       "array([  3,   3,   4,   5,   5,  24, 111, 222])"
      ]
     },
     "execution_count": 5,
     "metadata": {},
     "output_type": "execute_result"
    }
   ],
   "source": [
    "np.sort(arr)"
   ]
  },
  {
   "cell_type": "code",
   "execution_count": 6,
   "id": "7e680544",
   "metadata": {},
   "outputs": [
    {
     "data": {
      "text/plain": [
       "6"
      ]
     },
     "execution_count": 6,
     "metadata": {},
     "output_type": "execute_result"
    }
   ],
   "source": [
    "np.searchsorted(arr,34) #Tells the location for the correct insertion"
   ]
  },
  {
   "cell_type": "code",
   "execution_count": 7,
   "id": "96c21fcd",
   "metadata": {},
   "outputs": [],
   "source": [
    "arr1 = np.array([0,345,343,0,1,2343,0,0,0])"
   ]
  },
  {
   "cell_type": "code",
   "execution_count": 8,
   "id": "b351837b",
   "metadata": {},
   "outputs": [
    {
     "data": {
      "text/plain": [
       "4"
      ]
     },
     "execution_count": 8,
     "metadata": {},
     "output_type": "execute_result"
    }
   ],
   "source": [
    "np.count_nonzero(arr1) #Tell count of non-zero data"
   ]
  },
  {
   "cell_type": "code",
   "execution_count": 9,
   "id": "63c4aa45",
   "metadata": {},
   "outputs": [
    {
     "data": {
      "text/plain": [
       "array([  4,   5,   3,   5,  24,   3, 222, 111])"
      ]
     },
     "execution_count": 9,
     "metadata": {},
     "output_type": "execute_result"
    }
   ],
   "source": [
    "arr"
   ]
  },
  {
   "cell_type": "code",
   "execution_count": 10,
   "id": "de74fbe2",
   "metadata": {},
   "outputs": [
    {
     "data": {
      "text/plain": [
       "(array([4, 6, 7], dtype=int64),)"
      ]
     },
     "execution_count": 10,
     "metadata": {},
     "output_type": "execute_result"
    }
   ],
   "source": [
    "np.where(arr > 6) #gives the index where condition meets"
   ]
  },
  {
   "cell_type": "code",
   "execution_count": 11,
   "id": "ea4e0cd7",
   "metadata": {},
   "outputs": [
    {
     "data": {
      "text/plain": [
       "array([ 24, 222, 111])"
      ]
     },
     "execution_count": 11,
     "metadata": {},
     "output_type": "execute_result"
    }
   ],
   "source": [
    "np.extract(arr > 6, arr) #Give array element"
   ]
  },
  {
   "cell_type": "code",
   "execution_count": 12,
   "id": "39290e3d",
   "metadata": {},
   "outputs": [],
   "source": [
    "# Byte swapping"
   ]
  },
  {
   "cell_type": "code",
   "execution_count": 13,
   "id": "cae61701",
   "metadata": {},
   "outputs": [
    {
     "data": {
      "text/plain": [
       "array([  67108864,   83886080,   50331648,   83886080,  402653184,\n",
       "         50331648, -570425344, 1862270976])"
      ]
     },
     "execution_count": 13,
     "metadata": {},
     "output_type": "execute_result"
    }
   ],
   "source": [
    "arr.byteswap() #gives bytes"
   ]
  },
  {
   "cell_type": "code",
   "execution_count": 14,
   "id": "e899d304",
   "metadata": {},
   "outputs": [
    {
     "data": {
      "text/plain": [
       "array([  4,   5,   3,   5,  24,   3, 222, 111])"
      ]
     },
     "execution_count": 14,
     "metadata": {},
     "output_type": "execute_result"
    }
   ],
   "source": [
    "arr"
   ]
  },
  {
   "cell_type": "code",
   "execution_count": 15,
   "id": "79087c4a",
   "metadata": {},
   "outputs": [],
   "source": [
    "a = np.copy(arr) #Deep Copy - Two copies"
   ]
  },
  {
   "cell_type": "code",
   "execution_count": 16,
   "id": "22248ad3",
   "metadata": {},
   "outputs": [
    {
     "data": {
      "text/plain": [
       "array([  4,   5,   3,   5,  24,   3, 222, 111])"
      ]
     },
     "execution_count": 16,
     "metadata": {},
     "output_type": "execute_result"
    }
   ],
   "source": [
    "a"
   ]
  },
  {
   "cell_type": "code",
   "execution_count": 17,
   "id": "aeddd3f4",
   "metadata": {},
   "outputs": [],
   "source": [
    "b = arr.view() #Shallow copy- One copy"
   ]
  },
  {
   "cell_type": "code",
   "execution_count": 18,
   "id": "93e76292",
   "metadata": {},
   "outputs": [],
   "source": [
    "b[0] = 777"
   ]
  },
  {
   "cell_type": "code",
   "execution_count": 19,
   "id": "880d2f41",
   "metadata": {},
   "outputs": [
    {
     "data": {
      "text/plain": [
       "array([777,   5,   3,   5,  24,   3, 222, 111])"
      ]
     },
     "execution_count": 19,
     "metadata": {},
     "output_type": "execute_result"
    }
   ],
   "source": [
    "b"
   ]
  },
  {
   "cell_type": "code",
   "execution_count": 20,
   "id": "ea1369d2",
   "metadata": {},
   "outputs": [
    {
     "data": {
      "text/plain": [
       "array([777,   5,   3,   5,  24,   3, 222, 111])"
      ]
     },
     "execution_count": 20,
     "metadata": {},
     "output_type": "execute_result"
    }
   ],
   "source": [
    "arr"
   ]
  },
  {
   "cell_type": "code",
   "execution_count": 21,
   "id": "2471c8d7",
   "metadata": {},
   "outputs": [],
   "source": [
    "# Numpy matrix library"
   ]
  },
  {
   "cell_type": "code",
   "execution_count": 22,
   "id": "663b441c",
   "metadata": {},
   "outputs": [],
   "source": [
    "import numpy.matlib as nm"
   ]
  },
  {
   "cell_type": "code",
   "execution_count": 24,
   "id": "e8e838ca",
   "metadata": {},
   "outputs": [
    {
     "data": {
      "text/plain": [
       "matrix([[0., 0., 0., 0., 0.]])"
      ]
     },
     "execution_count": 24,
     "metadata": {},
     "output_type": "execute_result"
    }
   ],
   "source": [
    "nm.zeros(5) #generates matrix"
   ]
  },
  {
   "cell_type": "code",
   "execution_count": 26,
   "id": "b7a53f61",
   "metadata": {},
   "outputs": [
    {
     "data": {
      "text/plain": [
       "matrix([[1., 1., 1., 1.],\n",
       "        [1., 1., 1., 1.],\n",
       "        [1., 1., 1., 1.]])"
      ]
     },
     "execution_count": 26,
     "metadata": {},
     "output_type": "execute_result"
    }
   ],
   "source": [
    "nm.ones((3,4))"
   ]
  },
  {
   "cell_type": "code",
   "execution_count": 27,
   "id": "4d7102d7",
   "metadata": {},
   "outputs": [
    {
     "data": {
      "text/plain": [
       "matrix([[1., 0., 0., 0., 0.],\n",
       "        [0., 1., 0., 0., 0.],\n",
       "        [0., 0., 1., 0., 0.],\n",
       "        [0., 0., 0., 1., 0.],\n",
       "        [0., 0., 0., 0., 1.]])"
      ]
     },
     "execution_count": 27,
     "metadata": {},
     "output_type": "execute_result"
    }
   ],
   "source": [
    "nm.eye(5)"
   ]
  },
  {
   "cell_type": "code",
   "execution_count": 28,
   "id": "08f6f15a",
   "metadata": {},
   "outputs": [],
   "source": [
    "# Linear Algebra"
   ]
  },
  {
   "cell_type": "code",
   "execution_count": 30,
   "id": "6df9f09e",
   "metadata": {},
   "outputs": [],
   "source": [
    "arr1 = np.random.randint([[2,3], [4,5]])\n",
    "arr2 = np.random.randint([[5,3], [2,5]])"
   ]
  },
  {
   "cell_type": "code",
   "execution_count": 31,
   "id": "5fd5ee11",
   "metadata": {},
   "outputs": [
    {
     "data": {
      "text/plain": [
       "array([[0, 0],\n",
       "       [0, 0]])"
      ]
     },
     "execution_count": 31,
     "metadata": {},
     "output_type": "execute_result"
    }
   ],
   "source": [
    "arr1"
   ]
  },
  {
   "cell_type": "code",
   "execution_count": 32,
   "id": "18668d47",
   "metadata": {},
   "outputs": [
    {
     "data": {
      "text/plain": [
       "array([[1, 2],\n",
       "       [0, 0]])"
      ]
     },
     "execution_count": 32,
     "metadata": {},
     "output_type": "execute_result"
    }
   ],
   "source": [
    "arr2"
   ]
  },
  {
   "cell_type": "code",
   "execution_count": 33,
   "id": "151a0611",
   "metadata": {},
   "outputs": [
    {
     "data": {
      "text/plain": [
       "array([[0, 0],\n",
       "       [0, 0]])"
      ]
     },
     "execution_count": 33,
     "metadata": {},
     "output_type": "execute_result"
    }
   ],
   "source": [
    "np.dot(arr1,arr2)"
   ]
  },
  {
   "cell_type": "code",
   "execution_count": 34,
   "id": "c47e3824",
   "metadata": {},
   "outputs": [
    {
     "data": {
      "text/plain": [
       "array([[0, 0],\n",
       "       [0, 0]])"
      ]
     },
     "execution_count": 34,
     "metadata": {},
     "output_type": "execute_result"
    }
   ],
   "source": [
    "arr1@arr2"
   ]
  },
  {
   "cell_type": "code",
   "execution_count": null,
   "id": "fffbfe79",
   "metadata": {},
   "outputs": [],
   "source": []
  }
 ],
 "metadata": {
  "kernelspec": {
   "display_name": "Python 3 (ipykernel)",
   "language": "python",
   "name": "python3"
  },
  "language_info": {
   "codemirror_mode": {
    "name": "ipython",
    "version": 3
   },
   "file_extension": ".py",
   "mimetype": "text/x-python",
   "name": "python",
   "nbconvert_exporter": "python",
   "pygments_lexer": "ipython3",
   "version": "3.10.1"
  }
 },
 "nbformat": 4,
 "nbformat_minor": 5
}
